{
  "nbformat": 4,
  "nbformat_minor": 0,
  "metadata": {
    "colab": {
      "name": "01_Generación de Datos",
      "provenance": [],
      "collapsed_sections": [],
      "include_colab_link": true
    },
    "kernelspec": {
      "name": "python3",
      "display_name": "Python 3"
    },
    "language_info": {
      "name": "python"
    }
  },
  "cells": [
    {
      "cell_type": "markdown",
      "metadata": {
        "id": "view-in-github",
        "colab_type": "text"
      },
      "source": [
        "<a href=\"https://colab.research.google.com/github/Narcilaq/Monografia/blob/main/01_Generaci%C3%B3n_de_Datos.ipynb\" target=\"_parent\"><img src=\"https://colab.research.google.com/assets/colab-badge.svg\" alt=\"Open In Colab\"/></a>"
      ]
    },
    {
      "cell_type": "markdown",
      "metadata": {
        "id": "V0IvozGyo43k"
      },
      "source": [
        "# **Carga de las Librerías**"
      ]
    },
    {
      "cell_type": "code",
      "metadata": {
        "id": "_ntWk9TvQepR"
      },
      "source": [
        "import numpy as np\n",
        "import pandas as pd\n",
        "import random\n",
        "\n",
        "import matplotlib.pyplot as plt\n",
        "from matplotlib import ticker"
      ],
      "execution_count": 1,
      "outputs": []
    },
    {
      "cell_type": "code",
      "metadata": {
        "id": "BlLw6C2exGYg"
      },
      "source": [
        ""
      ],
      "execution_count": 1,
      "outputs": []
    },
    {
      "cell_type": "markdown",
      "metadata": {
        "id": "kcYBx1sZpG9U"
      },
      "source": [
        "# **Ejemplo de Generación de Datos**"
      ]
    },
    {
      "cell_type": "markdown",
      "metadata": {
        "id": "KYdfsJFkpQZ1"
      },
      "source": [
        "Se presentan las líneas de código con la generación de una serie de tiempo evaluando toda la curva logística. En la gráfica final se podrá apreciar la curva definida por la ecuación y los valores obtenidos luego de aplicar el coeficiente de variabilidad."
      ]
    },
    {
      "cell_type": "code",
      "metadata": {
        "colab": {
          "base_uri": "https://localhost:8080/",
          "height": 312
        },
        "id": "pIwWpVtSXvJA",
        "outputId": "21af0171-0b1a-441e-f37c-e14e0fb9e5d8"
      },
      "source": [
        "xmin = 0\n",
        "xmax = 48\n",
        "L = 0.1\n",
        "t0 = 24\n",
        "k = 0.35\n",
        "t = np.linspace(xmin,xmax,xmax-xmin+1)\n",
        "P_var = 0.25\n",
        "var = 1+np.random.uniform(-P_var,P_var,len(t))\n",
        "\n",
        "d = (L / (1. + np.exp(-k * (t - t0))*var))*-1\n",
        "d_ = L / (1. + np.exp(-k * (t - t0)))*-1\n",
        "\n",
        "\n",
        "plt.figure(figsize=(16,10),dpi=600)\n",
        "\n",
        "fig, ax = plt.subplots()\n",
        "\n",
        "ax.set(title='Generación de Datos Sintéticos', ylabel = 'Deformación (mm)', xlabel = 'Tiempo (hr)')\n",
        "ax.plot(t, d_, 'r-', label = 'Datos de Ecuación', linewidth= 1, marker = '.', markerfacecolor='b', markeredgecolor= 'b', markersize=6 )\n",
        "ax.plot(t, d,'kx', label = 'Datos con Varibailidad')\n",
        "plt.xlim(0,48)\n",
        "plt.xticks(range(0, 49, 6))\n",
        "\n",
        "ax.legend(loc='best')\n",
        "ax.grid()\n",
        "\n",
        "plt.savefig('Figura 1.jpeg',dpi=600)"
      ],
      "execution_count": 2,
      "outputs": [
        {
          "output_type": "display_data",
          "data": {
            "text/plain": [
              "<Figure size 9600x6000 with 0 Axes>"
            ]
          },
          "metadata": {}
        },
        {
          "output_type": "display_data",
          "data": {
            "image/png": "[encoded data removed]",
            "text/plain": [
              "<Figure size 432x288 with 1 Axes>"
            ]
          },
          "metadata": {
            "needs_background": "light"
          }
        }
      ]
    },
    {
      "cell_type": "markdown",
      "metadata": {
        "id": "oiXbxWorrk2t"
      },
      "source": [
        "Se presenta solo el tramo de la curva que se utilizaría para en la elaboración del modelo, concerniente a los datos generados entre las horas 12 y 24, los cuales corresponden además al segmento de la curva donde la deformación tendría mayor tasa de cambio. "
      ]
    },
    {
      "cell_type": "code",
      "metadata": {
        "colab": {
          "base_uri": "https://localhost:8080/",
          "height": 312
        },
        "id": "vQOdSzZo6E0n",
        "outputId": "8e3328a5-43c1-4919-b128-a7148325bd06"
      },
      "source": [
        "plt.figure(figsize=(16,4),dpi=600)\n",
        "\n",
        "fig, ax = plt.subplots()\n",
        "\n",
        "ax.set(title='Generación de Datos Sintéticos', ylabel = 'Deformación (mm)', xlabel = 'Tiempo (hr)')\n",
        "ax.plot(t, d_, 'r-', label = 'Datos de Ecuación', linewidth= 1, marker = '.', markerfacecolor='b', markeredgecolor= 'b', markersize=6 )\n",
        "ax.plot(t, d,'kx', label = 'Datos con Varibailidad')\n",
        "plt.xlim(11.5,24.5)\n",
        "plt.ylim(-0.055,0.001)\n",
        "plt.xticks(range(12, 25, 2))\n",
        "\n",
        "ax.legend(loc='center left')\n",
        "ax.grid()\n",
        "plt.savefig('Figura 2.pdf',dpi=600)"
      ],
      "execution_count": 3,
      "outputs": [
        {
          "output_type": "display_data",
          "data": {
            "text/plain": [
              "<Figure size 9600x2400 with 0 Axes>"
            ]
          },
          "metadata": {}
        },
        {
          "output_type": "display_data",
          "data": {
            "image/png": "[encoded data removed]",
            "text/plain": [
              "<Figure size 432x288 with 1 Axes>"
            ]
          },
          "metadata": {
            "needs_background": "light"
          }
        }
      ]
    },
    {
      "cell_type": "markdown",
      "metadata": {
        "id": "euMV7nYcrtYx"
      },
      "source": [
        "# **Generación de Series de Datos Umbrales**"
      ]
    },
    {
      "cell_type": "markdown",
      "metadata": {
        "id": "JsG0Z_RVsVS6"
      },
      "source": [
        "Los datos umbrales son las series que separan un nivel de alerta del otro, dado que se implementaron 4 niveles de alerta (Alerta Verde, Alerta Amarilla, Alerta Naranja y Alerta Roja) se requieren 3 series umbrales, los cuales corresponderían a pronósticos de falla de 21, 15 y 8 días según el criterio de falla del inverso de la velocidad. Los parámetros de la ecuación para que el pronostico de falla se de en la cantidad de días señalados son:\n",
        "\n",
        "  Umbral 1: L =0.1; k= 0.02560; Umbral 2: L =0.5; k= 0.03024; Umbral 3: L =1.0; k= 0.04117\n",
        "\n",
        "El valor de los parámetros t0 y var, se mantendrán idénticos para todas las series y serán correspondientes a 24 y 0.05 respectivamente, de igual manera se mantendrá el eje X para los tiempos entre 12 y 24 horas."
      ]
    },
    {
      "cell_type": "code",
      "metadata": {
        "id": "rgnE7TvS6Ppu"
      },
      "source": [
        "Umbral_1 =[]\n",
        "Umbral_2 =[]\n",
        "Umbral_3 =[]\n",
        "\n",
        "xmin = 12\n",
        "xmax = 24\n",
        "\n",
        "t = np.linspace(xmin,xmax,xmax-xmin+1)\n",
        "\n",
        "t0 = 24\n",
        "\n",
        "P_var = 0.001\n",
        "var = 1+np.random.uniform(-P_var,P_var,len(t))\n",
        "\n",
        "def DeformacionConVariabilidad(L,k):\n",
        "  return (t-12), (-L / (1. + np.exp(-k * (t - t0))))\n",
        "\n",
        "MiDefConVar=DeformacionConVariabilidad(0.1, 0.02560)\n",
        "Umbral_1.append([MiDefConVar[1]])\n",
        "\n",
        "MiDefConVar=DeformacionConVariabilidad(0.5, 0.03024)\n",
        "Umbral_2.append([MiDefConVar[1]])\n",
        "\n",
        "MiDefConVar=DeformacionConVariabilidad(1.0, 0.04117)\n",
        "Umbral_3.append([MiDefConVar[1]])"
      ],
      "execution_count": 4,
      "outputs": []
    },
    {
      "cell_type": "markdown",
      "metadata": {
        "id": "pvfnntt7wBn8"
      },
      "source": [
        "Teniendo los valores umbrales y sus parámetros, se podrán generar series de datos entre las series umbrales, las cuales corresponderían a las series de los niveles de alertas para el entrenamiento del modelo.\n",
        "\n",
        "Para la generación de los datos para el entrenamiento del modelo bastaría crear listas de datos mediante iteraciones, especificando que los parámetros de cada serie que se genere, se obtenga de manera aleatoria entre un rango de valores limitado por los parámetros que generan las series umbrales. Lo anterior se ilustrará a continuación visualizando 5 series por nivel de alerta. \n"
      ]
    },
    {
      "cell_type": "code",
      "metadata": {
        "colab": {
          "base_uri": "https://localhost:8080/",
          "height": 422
        },
        "id": "GVY8igd7MY28",
        "outputId": "887f09f9-fa60-4bc0-f8f1-b7820f6e649b"
      },
      "source": [
        "plt.figure(dpi=500)\n",
        "fig, ax = plt.subplots()\n",
        "fig.set_size_inches(10, 6)\n",
        "\n",
        "P_var = 0.001\n",
        "\n",
        "ax.set(title='Generación de Umbrales para Datos Sintéticos', ylabel = 'Deformación (mm)', xlabel = 'Tiempo (hr)')\n",
        "\n",
        "#Alerta 1\n",
        "\n",
        "Alert_1 = []\n",
        "\n",
        "for i in range(5):\n",
        "  L = random.uniform(0.01000, 0.10000)\n",
        "  k = random.uniform(0.01000, 0.0256)\n",
        "  \n",
        "  \n",
        "  var = 1+np.random.uniform(-P_var,P_var,len(t))\n",
        "\n",
        "  def DeformacionConVariabilidad(t0):\n",
        "    return (t-12), (L / (1. + np.exp(-k * (t - t0))*var)*-1)\n",
        "  \n",
        "  MiDefConVar=DeformacionConVariabilidad(24)\n",
        "  Alert_1.append([MiDefConVar[1]])\n",
        "  \n",
        "ax.plot(MiDefConVar[0], Alert_1[0][0],\"d\", color = 'lime', markersize=5, markeredgecolor = 'limegreen' , label = 'Nivel de Alerta 1',)\n",
        "ax.plot(MiDefConVar[0], Alert_1[1][0],\"^\", color = 'lime', markersize=5, markeredgecolor = 'limegreen')\n",
        "ax.plot(MiDefConVar[0], Alert_1[2][0],\"s\", color = 'lime', markersize=5, markeredgecolor = 'limegreen')\n",
        "ax.plot(MiDefConVar[0], Alert_1[3][0],\"8\", color = 'lime', markersize=5, markeredgecolor = 'limegreen')\n",
        "ax.plot(MiDefConVar[0], Alert_1[4][0],\"h\", color = 'lime', markersize=5, markeredgecolor = 'limegreen')\n",
        "\n",
        "#Alerta 2\n",
        "\n",
        "Alert_2 = []\n",
        "\n",
        "for i in range(5):\n",
        "  L = random.uniform(0.10001, 0.50000)\n",
        "  k = random.uniform(0.02560, 0.03024)\n",
        "  \n",
        "  \n",
        "  var = 1+np.random.uniform(-P_var,P_var,len(t))\n",
        "\n",
        "  def DeformacionConVariabilidad(t0):\n",
        "    return (t-12), (L / (1. + np.exp(-k * (t - t0))*var)*-1)\n",
        "  \n",
        "  MiDefConVar=DeformacionConVariabilidad(24)\n",
        "  Alert_2.append([MiDefConVar[1]])\n",
        "  \n",
        "ax.plot(MiDefConVar[0], Alert_2[0][0], \"d\", color = 'palegoldenrod', markersize=5, markeredgecolor = 'khaki', label = 'Nivel de Alerta 2')\n",
        "ax.plot(MiDefConVar[0], Alert_2[1][0], \"^\", color = 'palegoldenrod', markersize=5, markeredgecolor = 'khaki')\n",
        "ax.plot(MiDefConVar[0], Alert_2[2][0], \"s\", color = 'palegoldenrod', markersize=5, markeredgecolor = 'khaki')\n",
        "ax.plot(MiDefConVar[0], Alert_2[3][0], \"8\", color = 'palegoldenrod', markersize=5, markeredgecolor = 'khaki')\n",
        "ax.plot(MiDefConVar[0], Alert_2[4][0], \"h\", color = 'palegoldenrod', markersize=5, markeredgecolor = 'khaki')\n",
        "\n",
        "#Alerta 3\n",
        "\n",
        "Alert_3 = []\n",
        "\n",
        "for i in range(5):\n",
        "  L = random.uniform(0.50001, 1.00000)\n",
        "  k = random.uniform(0.03024, 0.04117)\n",
        "  \n",
        "  \n",
        "  var = 1+np.random.uniform(-P_var,P_var,len(t))\n",
        "\n",
        "  def DeformacionConVariabilidad(t0):\n",
        "    return (t-12), (L / (1. + np.exp(-k * (t - t0))*var)*-1)\n",
        "  \n",
        "  MiDefConVar=DeformacionConVariabilidad(24)\n",
        "  Alert_3.append([MiDefConVar[1]])\n",
        "  \n",
        "ax.plot(MiDefConVar[0], Alert_3[0][0], \"d\", color = 'orange', markersize=5, markeredgecolor = 'darkorange', label = 'Nivel de Alerta 3')\n",
        "ax.plot(MiDefConVar[0], Alert_3[1][0], \"^\", color = 'orange', markersize=5, markeredgecolor = 'darkorange')\n",
        "ax.plot(MiDefConVar[0], Alert_3[2][0], \"s\", color = 'orange', markersize=5, markeredgecolor = 'darkorange')\n",
        "ax.plot(MiDefConVar[0], Alert_3[3][0], \"8\", color = 'orange', markersize=5, markeredgecolor = 'darkorange')\n",
        "ax.plot(MiDefConVar[0], Alert_3[4][0], \"h\", color = 'orange', markersize=5, markeredgecolor = 'darkorange')\n",
        "\n",
        "#Alerta 4\n",
        "\n",
        "Alert_4 = []\n",
        "\n",
        "for i in range(5):  \n",
        "  L = random.uniform(1.0500, 1.20000)\n",
        "  k = random.uniform(0.04118, 0.05265)\n",
        "  \n",
        "  var = 1+np.random.uniform(-P_var,P_var,len(t))\n",
        "\n",
        "  def DeformacionConVariabilidad(t0):\n",
        "    return (t-12), (L / (1. + np.exp(-k * (t - t0))*var)*-1)\n",
        "  \n",
        "  MiDefConVar=DeformacionConVariabilidad(24)\n",
        "  Alert_4.append([MiDefConVar[1]])\n",
        "  \n",
        "ax.plot(MiDefConVar[0], Alert_4[0][0], \"d\", color = 'darkred', markersize=5, markeredgecolor = 'maroon', label = 'Nivel de Alerta 4')\n",
        "ax.plot(MiDefConVar[0], Alert_4[1][0], \"^\", color = 'darkred', markersize=5, markeredgecolor = 'maroon')\n",
        "ax.plot(MiDefConVar[0], Alert_4[2][0], \"s\", color = 'darkred', markersize=5, markeredgecolor = 'maroon')\n",
        "ax.plot(MiDefConVar[0], Alert_4[3][0], \"8\", color = 'darkred', markersize=5, markeredgecolor = 'maroon')\n",
        "ax.plot(MiDefConVar[0], Alert_4[4][0], \"h\", color = 'darkred', markersize=5, markeredgecolor = 'maroon')\n",
        "\n",
        "\n",
        "ax.set(title='Generación de Umbrales para Datos Sintéticos', ylabel = 'Deformación (mm)', xlabel = 'Tiempo (hr)')\n",
        "ax.plot(MiDefConVar[0], Umbral_1[0][0], 'g-', label = 'Umbral 1', linewidth= 2, marker = '.', markerfacecolor='green', markeredgecolor= 'darkgreen', markersize=7 )\n",
        "ax.plot(MiDefConVar[0], Umbral_2[0][0], 'y-', label = 'Umbral 2', linewidth= 2, marker = '.', markerfacecolor='yellow', markeredgecolor= 'gold', markersize=7 )\n",
        "ax.plot(MiDefConVar[0], Umbral_3[0][0], 'r-', label = 'Umbral 3', linewidth= 2, marker = '.', markerfacecolor='red', markeredgecolor= 'darkred', markersize=7 )\n",
        "\n",
        "#plt.xlim(11.5,24.5)\n",
        "plt.ylim(-0.65,0.05)\n",
        "#plt.xticks(range(12, 25, 2))\n",
        "\n",
        "ax.legend(bbox_to_anchor=(1.0, 1))\n",
        "ax.grid()"
      ],
      "execution_count": 5,
      "outputs": [
        {
          "output_type": "display_data",
          "data": {
            "text/plain": [
              "<Figure size 3000x2000 with 0 Axes>"
            ]
          },
          "metadata": {}
        },
        {
          "output_type": "display_data",
          "data": {
            "image/png": "[encoded data removed]",
            "text/plain": [
              "<Figure size 720x432 with 1 Axes>"
            ]
          },
          "metadata": {
            "needs_background": "light"
          }
        }
      ]
    },
    {
      "cell_type": "markdown",
      "metadata": {
        "id": "_9kFRleP3y4K"
      },
      "source": [
        "# **Generación de Datos para Entrenamiento**"
      ]
    },
    {
      "cell_type": "code",
      "metadata": {
        "id": "p34GRBsj390s"
      },
      "source": [
        "xmin = 12\n",
        "xmax = 24\n",
        "t = np.linspace(xmin,xmax,xmax-xmin+1)\n",
        "P_var = 0.0005\n",
        "var = 1+np.random.uniform(-P_var,P_var,len(t))\n",
        "\n",
        "Nivel_Alerta_1_Verde = []\n",
        "\n",
        "for i in range(1000):\n",
        "\n",
        "  L = random.uniform(0.01000, 0.10000)\n",
        "  k = random.uniform(0.01000, 0.0256)\n",
        "\n",
        "  def DeformacionConVariabilidad(t0):\n",
        "    return (t-12), (L / (1. + np.exp(-k * (t - t0))*var)*-1)\n",
        "  \n",
        "  MiDefConVar=DeformacionConVariabilidad(24)\n",
        "  Nivel_Alerta_1_Verde.append([MiDefConVar[1]])\n",
        "\n",
        "\n",
        "Nivel_Alerta_2_Amarillo = []\n",
        "\n",
        "for i in range(1000):\n",
        "\n",
        "  L = random.uniform(0.10001, 0.50000)\n",
        "  k = random.uniform(0.02560, 0.03024)\n",
        "  \n",
        "  def DeformacionConVariabilidad(t0):\n",
        "    return (t-12), (L / (1. + np.exp(-k * (t - t0))*var)*-1)\n",
        "  \n",
        "  MiDefConVar=DeformacionConVariabilidad(24)\n",
        "  Nivel_Alerta_2_Amarillo.append([MiDefConVar[1]])\n",
        "\n",
        "\n",
        "Nivel_Alerta_3_Naranja = []\n",
        "\n",
        "for i in range(1000):\n",
        "\n",
        "  L = random.uniform(0.50001, 1.00000)\n",
        "  k = random.uniform(0.03024, 0.04117)\n",
        "  \n",
        "  def DeformacionConVariabilidad(t0):\n",
        "    return (t-12), (L / (1. + np.exp(-k * (t - t0))*var)*-1)\n",
        "  \n",
        "  MiDefConVar=DeformacionConVariabilidad(24)\n",
        "  Nivel_Alerta_3_Naranja.append([MiDefConVar[1]])\n",
        "\n",
        "\n",
        "Nivel_Alerta_4_Roja = []\n",
        "\n",
        "for i in range(1000):\n",
        "\n",
        "  L = random.uniform(1.0500, 1.20000)\n",
        "  k = random.uniform(0.04118, 0.05265)\n",
        "  \n",
        "  def DeformacionConVariabilidad(t0):\n",
        "    return (t-12), (L / (1. + np.exp(-k * (t - t0))*var)*-1)\n",
        "  \n",
        "  MiDefConVar=DeformacionConVariabilidad(24)\n",
        "  Nivel_Alerta_4_Roja.append([MiDefConVar[1]])"
      ],
      "execution_count": 6,
      "outputs": []
    },
    {
      "cell_type": "code",
      "metadata": {
        "id": "XRgPX1EC5vqs"
      },
      "source": [
        "  d_Al1 = pd.DataFrame(np.concatenate(Nivel_Alerta_1_Verde))\n",
        "  d_Al1 = d_Al1.assign(Target='Alerta_1')\n",
        "\n",
        "  d_Al2 = pd.DataFrame(np.concatenate(Nivel_Alerta_2_Amarillo))\n",
        "  d_Al2 = d_Al2.assign(Target='Alerta_2')\n",
        "\n",
        "  d_Al3 = pd.DataFrame(np.concatenate(Nivel_Alerta_3_Naranja))\n",
        "  d_Al3 = d_Al3.assign(Target='Alerta_3')\n",
        "\n",
        "  d_Al4 = pd.DataFrame(np.concatenate(Nivel_Alerta_4_Roja))\n",
        "  d_Al4 = d_Al4.assign(Target='Alerta_4')  \n",
        "\n",
        "  Data = pd.concat([d_Al1, d_Al2, d_Al3, d_Al4], axis=0)\n",
        "  Data=Data.sample(frac=1).reset_index(drop=True)\n",
        "\n",
        "Data.to_csv('Dataset.csv', index=False)"
      ],
      "execution_count": 8,
      "outputs": []
    },
    {
      "cell_type": "code",
      "metadata": {
        "id": "PWfXWU7c-VzA",
        "colab": {
          "base_uri": "https://localhost:8080/",
          "height": 423
        },
        "outputId": "864817cf-03fd-4310-83cd-52aa6d0ae0cb"
      },
      "source": [
        "Data"
      ],
      "execution_count": 9,
      "outputs": [
        {
          "output_type": "execute_result",
          "data": {
            "text/html": [
              "<div>\n",
              "<style scoped>\n",
              "    .dataframe tbody tr th:only-of-type {\n",
              "        vertical-align: middle;\n",
              "    }\n",
              "\n",
              "    .dataframe tbody tr th {\n",
              "        vertical-align: top;\n",
              "    }\n",
              "\n",
              "    .dataframe thead th {\n",
              "        text-align: right;\n",
              "    }\n",
              "</style>\n",
              "<table border=\"1\" class=\"dataframe\">\n",
              "  <thead>\n",
              "    <tr style=\"text-align: right;\">\n",
              "      <th></th>\n",
              "      <th>0</th>\n",
              "      <th>1</th>\n",
              "      <th>2</th>\n",
              "      <th>3</th>\n",
              "      <th>4</th>\n",
              "      <th>5</th>\n",
              "      <th>6</th>\n",
              "      <th>7</th>\n",
              "      <th>8</th>\n",
              "      <th>9</th>\n",
              "      <th>10</th>\n",
              "      <th>11</th>\n",
              "      <th>12</th>\n",
              "      <th>Target</th>\n",
              "    </tr>\n",
              "  </thead>\n",
              "  <tbody>\n",
              "    <tr>\n",
              "      <th>0</th>\n",
              "      <td>-0.127350</td>\n",
              "      <td>-0.129405</td>\n",
              "      <td>-0.131448</td>\n",
              "      <td>-0.133517</td>\n",
              "      <td>-0.135554</td>\n",
              "      <td>-0.137637</td>\n",
              "      <td>-0.139729</td>\n",
              "      <td>-0.141826</td>\n",
              "      <td>-0.143887</td>\n",
              "      <td>-0.145957</td>\n",
              "      <td>-0.148063</td>\n",
              "      <td>-0.150150</td>\n",
              "      <td>-0.152259</td>\n",
              "      <td>Alerta_2</td>\n",
              "    </tr>\n",
              "    <tr>\n",
              "      <th>1</th>\n",
              "      <td>-0.424648</td>\n",
              "      <td>-0.437760</td>\n",
              "      <td>-0.450961</td>\n",
              "      <td>-0.464380</td>\n",
              "      <td>-0.477784</td>\n",
              "      <td>-0.491461</td>\n",
              "      <td>-0.505262</td>\n",
              "      <td>-0.519159</td>\n",
              "      <td>-0.532982</td>\n",
              "      <td>-0.546889</td>\n",
              "      <td>-0.560972</td>\n",
              "      <td>-0.575007</td>\n",
              "      <td>-0.589143</td>\n",
              "      <td>Alerta_4</td>\n",
              "    </tr>\n",
              "    <tr>\n",
              "      <th>2</th>\n",
              "      <td>-0.445725</td>\n",
              "      <td>-0.457393</td>\n",
              "      <td>-0.469096</td>\n",
              "      <td>-0.480971</td>\n",
              "      <td>-0.492784</td>\n",
              "      <td>-0.504832</td>\n",
              "      <td>-0.516968</td>\n",
              "      <td>-0.529170</td>\n",
              "      <td>-0.541269</td>\n",
              "      <td>-0.553432</td>\n",
              "      <td>-0.565756</td>\n",
              "      <td>-0.578021</td>\n",
              "      <td>-0.590381</td>\n",
              "      <td>Alerta_4</td>\n",
              "    </tr>\n",
              "    <tr>\n",
              "      <th>3</th>\n",
              "      <td>-0.021824</td>\n",
              "      <td>-0.022093</td>\n",
              "      <td>-0.022359</td>\n",
              "      <td>-0.022628</td>\n",
              "      <td>-0.022892</td>\n",
              "      <td>-0.023163</td>\n",
              "      <td>-0.023434</td>\n",
              "      <td>-0.023707</td>\n",
              "      <td>-0.023973</td>\n",
              "      <td>-0.024240</td>\n",
              "      <td>-0.024513</td>\n",
              "      <td>-0.024782</td>\n",
              "      <td>-0.025055</td>\n",
              "      <td>Alerta_1</td>\n",
              "    </tr>\n",
              "    <tr>\n",
              "      <th>4</th>\n",
              "      <td>-0.410144</td>\n",
              "      <td>-0.422316</td>\n",
              "      <td>-0.434558</td>\n",
              "      <td>-0.446995</td>\n",
              "      <td>-0.459407</td>\n",
              "      <td>-0.472069</td>\n",
              "      <td>-0.484840</td>\n",
              "      <td>-0.497695</td>\n",
              "      <td>-0.510470</td>\n",
              "      <td>-0.523321</td>\n",
              "      <td>-0.536336</td>\n",
              "      <td>-0.549303</td>\n",
              "      <td>-0.562364</td>\n",
              "      <td>Alerta_4</td>\n",
              "    </tr>\n",
              "    <tr>\n",
              "      <th>...</th>\n",
              "      <td>...</td>\n",
              "      <td>...</td>\n",
              "      <td>...</td>\n",
              "      <td>...</td>\n",
              "      <td>...</td>\n",
              "      <td>...</td>\n",
              "      <td>...</td>\n",
              "      <td>...</td>\n",
              "      <td>...</td>\n",
              "      <td>...</td>\n",
              "      <td>...</td>\n",
              "      <td>...</td>\n",
              "      <td>...</td>\n",
              "      <td>...</td>\n",
              "    </tr>\n",
              "    <tr>\n",
              "      <th>3995</th>\n",
              "      <td>-0.026623</td>\n",
              "      <td>-0.026798</td>\n",
              "      <td>-0.026969</td>\n",
              "      <td>-0.027143</td>\n",
              "      <td>-0.027310</td>\n",
              "      <td>-0.027485</td>\n",
              "      <td>-0.027661</td>\n",
              "      <td>-0.027837</td>\n",
              "      <td>-0.028005</td>\n",
              "      <td>-0.028174</td>\n",
              "      <td>-0.028350</td>\n",
              "      <td>-0.028522</td>\n",
              "      <td>-0.028698</td>\n",
              "      <td>Alerta_1</td>\n",
              "    </tr>\n",
              "    <tr>\n",
              "      <th>3996</th>\n",
              "      <td>-0.042923</td>\n",
              "      <td>-0.043408</td>\n",
              "      <td>-0.043889</td>\n",
              "      <td>-0.044376</td>\n",
              "      <td>-0.044851</td>\n",
              "      <td>-0.045340</td>\n",
              "      <td>-0.045831</td>\n",
              "      <td>-0.046322</td>\n",
              "      <td>-0.046801</td>\n",
              "      <td>-0.047283</td>\n",
              "      <td>-0.047775</td>\n",
              "      <td>-0.048261</td>\n",
              "      <td>-0.048754</td>\n",
              "      <td>Alerta_1</td>\n",
              "    </tr>\n",
              "    <tr>\n",
              "      <th>3997</th>\n",
              "      <td>-0.041699</td>\n",
              "      <td>-0.041955</td>\n",
              "      <td>-0.042205</td>\n",
              "      <td>-0.042461</td>\n",
              "      <td>-0.042705</td>\n",
              "      <td>-0.042961</td>\n",
              "      <td>-0.043219</td>\n",
              "      <td>-0.043476</td>\n",
              "      <td>-0.043722</td>\n",
              "      <td>-0.043970</td>\n",
              "      <td>-0.044228</td>\n",
              "      <td>-0.044479</td>\n",
              "      <td>-0.044737</td>\n",
              "      <td>Alerta_1</td>\n",
              "    </tr>\n",
              "    <tr>\n",
              "      <th>3998</th>\n",
              "      <td>-0.450253</td>\n",
              "      <td>-0.462204</td>\n",
              "      <td>-0.474194</td>\n",
              "      <td>-0.486362</td>\n",
              "      <td>-0.498470</td>\n",
              "      <td>-0.510820</td>\n",
              "      <td>-0.523262</td>\n",
              "      <td>-0.535771</td>\n",
              "      <td>-0.548179</td>\n",
              "      <td>-0.560654</td>\n",
              "      <td>-0.573292</td>\n",
              "      <td>-0.585871</td>\n",
              "      <td>-0.598548</td>\n",
              "      <td>Alerta_4</td>\n",
              "    </tr>\n",
              "    <tr>\n",
              "      <th>3999</th>\n",
              "      <td>-0.166926</td>\n",
              "      <td>-0.169893</td>\n",
              "      <td>-0.172848</td>\n",
              "      <td>-0.175841</td>\n",
              "      <td>-0.178792</td>\n",
              "      <td>-0.181808</td>\n",
              "      <td>-0.184838</td>\n",
              "      <td>-0.187877</td>\n",
              "      <td>-0.190870</td>\n",
              "      <td>-0.193875</td>\n",
              "      <td>-0.196929</td>\n",
              "      <td>-0.199958</td>\n",
              "      <td>-0.203017</td>\n",
              "      <td>Alerta_2</td>\n",
              "    </tr>\n",
              "  </tbody>\n",
              "</table>\n",
              "<p>4000 rows × 14 columns</p>\n",
              "</div>"
            ],
            "text/plain": [
              "             0         1         2  ...        11        12    Target\n",
              "0    -0.127350 -0.129405 -0.131448  ... -0.150150 -0.152259  Alerta_2\n",
              "1    -0.424648 -0.437760 -0.450961  ... -0.575007 -0.589143  Alerta_4\n",
              "2    -0.445725 -0.457393 -0.469096  ... -0.578021 -0.590381  Alerta_4\n",
              "3    -0.021824 -0.022093 -0.022359  ... -0.024782 -0.025055  Alerta_1\n",
              "4    -0.410144 -0.422316 -0.434558  ... -0.549303 -0.562364  Alerta_4\n",
              "...        ...       ...       ...  ...       ...       ...       ...\n",
              "3995 -0.026623 -0.026798 -0.026969  ... -0.028522 -0.028698  Alerta_1\n",
              "3996 -0.042923 -0.043408 -0.043889  ... -0.048261 -0.048754  Alerta_1\n",
              "3997 -0.041699 -0.041955 -0.042205  ... -0.044479 -0.044737  Alerta_1\n",
              "3998 -0.450253 -0.462204 -0.474194  ... -0.585871 -0.598548  Alerta_4\n",
              "3999 -0.166926 -0.169893 -0.172848  ... -0.199958 -0.203017  Alerta_2\n",
              "\n",
              "[4000 rows x 14 columns]"
            ]
          },
          "metadata": {},
          "execution_count": 9
        }
      ]
    }
  ]
}