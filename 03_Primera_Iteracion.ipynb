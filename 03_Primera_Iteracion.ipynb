{
  "nbformat": 4,
  "nbformat_minor": 0,
  "metadata": {
    "colab": {
      "name": "1ra Iteracion.ipynb",
      "provenance": [],
      "collapsed_sections": [],
      "include_colab_link": true
    },
    "kernelspec": {
      "name": "python3",
      "display_name": "Python 3"
    },
    "language_info": {
      "name": "python"
    }
  },
  "cells": [
    {
      "cell_type": "markdown",
      "metadata": {
        "id": "view-in-github",
        "colab_type": "text"
      },
      "source": [
        "<a href=\"https://colab.research.google.com/github/Narcilaq/Monografia/blob/main/03_Primera_Iteracion.ipynb\" target=\"_parent\"><img src=\"https://colab.research.google.com/assets/colab-badge.svg\" alt=\"Open In Colab\"/></a>"
      ]
    },
    {
      "cell_type": "markdown",
      "metadata": {
        "id": "7VlOwJsHW5NH"
      },
      "source": [
        "# **Librerías**"
      ]
    },
    {
      "cell_type": "code",
      "metadata": {
        "id": "1OhCUxeiKGKN"
      },
      "source": [
        "import numpy as np\n",
        "import pandas as pd\n",
        "import matplotlib.pyplot as plt\n",
        "import matplotlib.colors\n",
        "import random\n",
        "import statistics as st\n",
        "\n",
        "from sklearn.metrics import confusion_matrix, classification_report\n",
        "from sklearn.model_selection import train_test_split\n",
        "from sklearn import svm, datasets\n",
        "\n",
        "from mlxtend.plotting import plot_confusion_matrix"
      ],
      "execution_count": 1,
      "outputs": []
    },
    {
      "cell_type": "markdown",
      "metadata": {
        "id": "3NApmFaISY0K"
      },
      "source": [
        "# **Carga del Dataset**"
      ]
    },
    {
      "cell_type": "markdown",
      "metadata": {
        "id": "yesyRNvYSlPQ"
      },
      "source": [
        "Carga del Dataset desde github"
      ]
    },
    {
      "cell_type": "code",
      "metadata": {
        "colab": {
          "base_uri": "https://localhost:8080/",
          "height": 206
        },
        "id": "M9NLkldBQ_ca",
        "outputId": "65735837-df63-4a65-baf3-bc16c8049751"
      },
      "source": [
        "import pandas as pd\n",
        "Data=pd.read_csv('https://raw.githubusercontent.com/Narcilaq/Monografia/main/02_Dataset.csv')\n",
        "Data.head()"
      ],
      "execution_count": 2,
      "outputs": [
        {
          "output_type": "execute_result",
          "data": {
            "text/html": [
              "<div>\n",
              "<style scoped>\n",
              "    .dataframe tbody tr th:only-of-type {\n",
              "        vertical-align: middle;\n",
              "    }\n",
              "\n",
              "    .dataframe tbody tr th {\n",
              "        vertical-align: top;\n",
              "    }\n",
              "\n",
              "    .dataframe thead th {\n",
              "        text-align: right;\n",
              "    }\n",
              "</style>\n",
              "<table border=\"1\" class=\"dataframe\">\n",
              "  <thead>\n",
              "    <tr style=\"text-align: right;\">\n",
              "      <th></th>\n",
              "      <th>0</th>\n",
              "      <th>1</th>\n",
              "      <th>2</th>\n",
              "      <th>3</th>\n",
              "      <th>4</th>\n",
              "      <th>5</th>\n",
              "      <th>6</th>\n",
              "      <th>7</th>\n",
              "      <th>8</th>\n",
              "      <th>9</th>\n",
              "      <th>10</th>\n",
              "      <th>11</th>\n",
              "      <th>12</th>\n",
              "      <th>Target</th>\n",
              "    </tr>\n",
              "  </thead>\n",
              "  <tbody>\n",
              "    <tr>\n",
              "      <th>0</th>\n",
              "      <td>-0.377889</td>\n",
              "      <td>-0.380354</td>\n",
              "      <td>-0.402710</td>\n",
              "      <td>-0.423272</td>\n",
              "      <td>-0.421606</td>\n",
              "      <td>-0.440030</td>\n",
              "      <td>-0.440800</td>\n",
              "      <td>-0.477770</td>\n",
              "      <td>-0.485821</td>\n",
              "      <td>-0.496759</td>\n",
              "      <td>-0.513852</td>\n",
              "      <td>-0.530075</td>\n",
              "      <td>-0.546106</td>\n",
              "      <td>Alerta_4</td>\n",
              "    </tr>\n",
              "    <tr>\n",
              "      <th>1</th>\n",
              "      <td>-0.355362</td>\n",
              "      <td>-0.354545</td>\n",
              "      <td>-0.371126</td>\n",
              "      <td>-0.385948</td>\n",
              "      <td>-0.381441</td>\n",
              "      <td>-0.394253</td>\n",
              "      <td>-0.391831</td>\n",
              "      <td>-0.420343</td>\n",
              "      <td>-0.424076</td>\n",
              "      <td>-0.430247</td>\n",
              "      <td>-0.441618</td>\n",
              "      <td>-0.452232</td>\n",
              "      <td>-0.462676</td>\n",
              "      <td>Alerta_3</td>\n",
              "    </tr>\n",
              "    <tr>\n",
              "      <th>2</th>\n",
              "      <td>-0.402901</td>\n",
              "      <td>-0.405015</td>\n",
              "      <td>-0.428128</td>\n",
              "      <td>-0.449310</td>\n",
              "      <td>-0.447041</td>\n",
              "      <td>-0.465936</td>\n",
              "      <td>-0.466227</td>\n",
              "      <td>-0.504601</td>\n",
              "      <td>-0.512538</td>\n",
              "      <td>-0.523505</td>\n",
              "      <td>-0.540935</td>\n",
              "      <td>-0.557448</td>\n",
              "      <td>-0.573756</td>\n",
              "      <td>Alerta_4</td>\n",
              "    </tr>\n",
              "    <tr>\n",
              "      <th>3</th>\n",
              "      <td>-0.172561</td>\n",
              "      <td>-0.171220</td>\n",
              "      <td>-0.177905</td>\n",
              "      <td>-0.183737</td>\n",
              "      <td>-0.180696</td>\n",
              "      <td>-0.185580</td>\n",
              "      <td>-0.183495</td>\n",
              "      <td>-0.195502</td>\n",
              "      <td>-0.196212</td>\n",
              "      <td>-0.198027</td>\n",
              "      <td>-0.202198</td>\n",
              "      <td>-0.206022</td>\n",
              "      <td>-0.209769</td>\n",
              "      <td>Alerta_2</td>\n",
              "    </tr>\n",
              "    <tr>\n",
              "      <th>4</th>\n",
              "      <td>-0.093387</td>\n",
              "      <td>-0.092571</td>\n",
              "      <td>-0.096056</td>\n",
              "      <td>-0.099081</td>\n",
              "      <td>-0.097355</td>\n",
              "      <td>-0.099871</td>\n",
              "      <td>-0.098657</td>\n",
              "      <td>-0.104980</td>\n",
              "      <td>-0.105261</td>\n",
              "      <td>-0.106132</td>\n",
              "      <td>-0.108263</td>\n",
              "      <td>-0.110207</td>\n",
              "      <td>-0.112111</td>\n",
              "      <td>Alerta_2</td>\n",
              "    </tr>\n",
              "  </tbody>\n",
              "</table>\n",
              "</div>"
            ],
            "text/plain": [
              "          0         1         2  ...        11        12    Target\n",
              "0 -0.377889 -0.380354 -0.402710  ... -0.530075 -0.546106  Alerta_4\n",
              "1 -0.355362 -0.354545 -0.371126  ... -0.452232 -0.462676  Alerta_3\n",
              "2 -0.402901 -0.405015 -0.428128  ... -0.557448 -0.573756  Alerta_4\n",
              "3 -0.172561 -0.171220 -0.177905  ... -0.206022 -0.209769  Alerta_2\n",
              "4 -0.093387 -0.092571 -0.096056  ... -0.110207 -0.112111  Alerta_2\n",
              "\n",
              "[5 rows x 14 columns]"
            ]
          },
          "metadata": {},
          "execution_count": 2
        }
      ]
    },
    {
      "cell_type": "markdown",
      "metadata": {
        "id": "tSmBwAoVSsor"
      },
      "source": [
        "#**Fraccionamiento de los datos**"
      ]
    },
    {
      "cell_type": "code",
      "metadata": {
        "id": "Bl-cv2QDSr9W"
      },
      "source": [
        "y = Data.Target\n",
        "X = Data.drop(['Target'], axis =1)"
      ],
      "execution_count": 3,
      "outputs": []
    },
    {
      "cell_type": "code",
      "metadata": {
        "id": "GEgamKT8RKa1"
      },
      "source": [
        "X_train, X_test, y_train, y_test = train_test_split(X, y, train_size=0.8, random_state = 0)"
      ],
      "execution_count": 4,
      "outputs": []
    },
    {
      "cell_type": "markdown",
      "metadata": {
        "id": "eRlluGAkURqf"
      },
      "source": [
        "# **Modelos Predictivos**"
      ]
    },
    {
      "cell_type": "markdown",
      "metadata": {
        "id": "68sEEkIYUi0m"
      },
      "source": [
        "##**Predicciones con SVM Kernel Lineal**"
      ]
    },
    {
      "cell_type": "code",
      "metadata": {
        "colab": {
          "base_uri": "https://localhost:8080/",
          "height": 1000
        },
        "id": "OX0RsltHToxC",
        "outputId": "7fb9d052-4542-473f-d455-394dc20e09da"
      },
      "source": [
        "linear_ovo = svm.SVC(kernel='linear', decision_function_shape='ovo').fit(X_train, y_train)\n",
        "linear_ovr = svm.SVC(kernel='linear', decision_function_shape='ovr').fit(X_train, y_train)\n",
        "\n",
        "linear_ovo_pred = linear_ovo.predict(X_test)\n",
        "linear_ovr_pred = linear_ovr.predict(X_test)\n",
        "\n",
        "accuracy_lin_ovo = linear_ovo.score(X_test, y_test)\n",
        "accuracy_lin_ovr = linear_ovr.score(X_test, y_test)\n",
        "print('“Accuracy Linear ovo Kernel:”', accuracy_lin_ovo)\n",
        "print('“Accuracy Linear ovr Kernel:”', accuracy_lin_ovr)\n",
        "\n",
        "print(classification_report(y_test, linear_ovo_pred))\n",
        "\n",
        "# creando una matrix de confusion\n",
        "cm_linear_ovo = confusion_matrix(y_test, linear_ovo_pred)\n",
        "cm_linear_ovr = confusion_matrix(y_test, linear_ovr_pred)\n",
        "plot_confusion_matrix(conf_mat=cm_linear_ovo, figsize=(6,6), show_normed=False)\n",
        "plot_confusion_matrix(conf_mat=cm_linear_ovr, figsize=(6,6), show_normed=False)\n",
        "plt.tight_layout()"
      ],
      "execution_count": 5,
      "outputs": [
        {
          "output_type": "stream",
          "name": "stdout",
          "text": [
            "“Accuracy Linear ovo Kernel:” 0.9675\n",
            "“Accuracy Linear ovr Kernel:” 0.9675\n",
            "              precision    recall  f1-score   support\n",
            "\n",
            "    Alerta_1       0.94      1.00      0.97       210\n",
            "    Alerta_2       0.97      0.93      0.95       206\n",
            "    Alerta_3       1.00      0.94      0.97       206\n",
            "    Alerta_4       0.97      1.00      0.98       178\n",
            "\n",
            "    accuracy                           0.97       800\n",
            "   macro avg       0.97      0.97      0.97       800\n",
            "weighted avg       0.97      0.97      0.97       800\n",
            "\n"
          ]
        },
        {
          "output_type": "display_data",
          "data": {
            "image/png": "[encoded data removed]",
            "text/plain": [
              "<Figure size 432x432 with 1 Axes>"
            ]
          },
          "metadata": {
            "needs_background": "light"
          }
        },
        {
          "output_type": "display_data",
          "data": {
            "image/png": "[encoded data removed]",
            "text/plain": [
              "<Figure size 432x432 with 1 Axes>"
            ]
          },
          "metadata": {
            "needs_background": "light"
          }
        }
      ]
    },
    {
      "cell_type": "markdown",
      "metadata": {
        "id": "-Y6Cjnt3Uoqu"
      },
      "source": [
        "##**Predicciones con SVM Kernel Polinómicos**"
      ]
    },
    {
      "cell_type": "markdown",
      "metadata": {
        "id": "v7aGxfe9Usnj"
      },
      "source": [
        "###**Predicción con SVM Kernel Polinómico de grado 2**"
      ]
    },
    {
      "cell_type": "code",
      "metadata": {
        "colab": {
          "base_uri": "https://localhost:8080/"
        },
        "id": "CgqL1BOCT6Ed",
        "outputId": "39c24a17-5a84-4858-8ba7-fb105bce174b"
      },
      "source": [
        "Pol2_ovo = svm.SVC(kernel='poly', degree=2, C=1, decision_function_shape='ovo').fit(X_train, y_train)\n",
        "Pol2_ovr = svm.SVC(kernel='poly', degree=2, C=1, decision_function_shape='ovr').fit(X_train, y_train)\n",
        "\n",
        "Pol2_ovo_pred = Pol2_ovo.predict(X_test)\n",
        "Pol2_ovr_pred = Pol2_ovr.predict(X_test)\n",
        "\n",
        "accuracy_Pol2_ovo = Pol2_ovo.score(X_test, y_test)\n",
        "accuracy_Pol2_ovr = Pol2_ovr.score(X_test, y_test)\n",
        "print('“Accuracy Pol2 ovo Kernel:”', accuracy_Pol2_ovo)\n",
        "print('“Accuracy Pol2 ovr Kernel:”', accuracy_Pol2_ovr)"
      ],
      "execution_count": 6,
      "outputs": [
        {
          "output_type": "stream",
          "name": "stdout",
          "text": [
            "“Accuracy Pol2 ovo Kernel:” 0.965\n",
            "“Accuracy Pol2 ovr Kernel:” 0.965\n"
          ]
        }
      ]
    },
    {
      "cell_type": "code",
      "metadata": {
        "colab": {
          "base_uri": "https://localhost:8080/"
        },
        "id": "eJNF6gBIT-RV",
        "outputId": "e1755589-21c3-42e4-ed87-88785c7277f7"
      },
      "source": [
        "print(classification_report(y_test, Pol2_ovo_pred))"
      ],
      "execution_count": 7,
      "outputs": [
        {
          "output_type": "stream",
          "name": "stdout",
          "text": [
            "              precision    recall  f1-score   support\n",
            "\n",
            "    Alerta_1       0.90      1.00      0.95       210\n",
            "    Alerta_2       0.99      0.87      0.93       206\n",
            "    Alerta_3       0.99      1.00      0.99       206\n",
            "    Alerta_4       1.00      1.00      1.00       178\n",
            "\n",
            "    accuracy                           0.96       800\n",
            "   macro avg       0.97      0.97      0.97       800\n",
            "weighted avg       0.97      0.96      0.96       800\n",
            "\n"
          ]
        }
      ]
    },
    {
      "cell_type": "code",
      "metadata": {
        "colab": {
          "base_uri": "https://localhost:8080/",
          "height": 812
        },
        "id": "GBlWYTIQUACn",
        "outputId": "10fa4619-e640-437f-f1c4-4415dd1a96a4"
      },
      "source": [
        "# creando una matrix de confusion\n",
        "cm_Pol2_ovo = confusion_matrix(y_test, Pol2_ovo_pred)\n",
        "cm_Pol2_ovr = confusion_matrix(y_test, Pol2_ovr_pred)\n",
        "plot_confusion_matrix(conf_mat=cm_Pol2_ovo, figsize=(6,6), show_normed=False)\n",
        "plot_confusion_matrix(conf_mat=cm_Pol2_ovr, figsize=(6,6), show_normed=False)\n",
        "plt.tight_layout()"
      ],
      "execution_count": 8,
      "outputs": [
        {
          "output_type": "display_data",
          "data": {
            "image/png": "[encoded data removed]",
            "text/plain": [
              "<Figure size 432x432 with 1 Axes>"
            ]
          },
          "metadata": {
            "needs_background": "light"
          }
        },
        {
          "output_type": "display_data",
          "data": {
            "image/png": "[encoded data removed]",
            "text/plain": [
              "<Figure size 432x432 with 1 Axes>"
            ]
          },
          "metadata": {
            "needs_background": "light"
          }
        }
      ]
    },
    {
      "cell_type": "markdown",
      "metadata": {
        "id": "5YCvNClfU4b6"
      },
      "source": [
        "### **Predicción con SVM Kernel Polinómico de grado 3**"
      ]
    },
    {
      "cell_type": "code",
      "metadata": {
        "colab": {
          "base_uri": "https://localhost:8080/"
        },
        "id": "X1Dd1HX5U5pi",
        "outputId": "837395ec-ae75-4858-fea4-eff13abacb8c"
      },
      "source": [
        "Pol3_ovo = svm.SVC(kernel='poly', degree=3, C=1, decision_function_shape='ovo').fit(X_train, y_train)\n",
        "Pol3_ovr = svm.SVC(kernel='poly', degree=3, C=1, decision_function_shape='ovr').fit(X_train, y_train)\n",
        "\n",
        "Pol3_ovo_pred = Pol3_ovo.predict(X_test)\n",
        "Pol3_ovr_pred = Pol3_ovr.predict(X_test)\n",
        "\n",
        "accuracy_Pol3_ovo = Pol3_ovo.score(X_test, y_test)\n",
        "accuracy_Pol3_ovr = Pol3_ovr.score(X_test, y_test)\n",
        "print('“Accuracy Pol3 ovo Kernel:”', accuracy_Pol3_ovo)\n",
        "print('“Accuracy Pol3 ovr Kernel:”', accuracy_Pol3_ovr)"
      ],
      "execution_count": 9,
      "outputs": [
        {
          "output_type": "stream",
          "name": "stdout",
          "text": [
            "“Accuracy Pol3 ovo Kernel:” 0.94875\n",
            "“Accuracy Pol3 ovr Kernel:” 0.94875\n"
          ]
        }
      ]
    },
    {
      "cell_type": "code",
      "metadata": {
        "colab": {
          "base_uri": "https://localhost:8080/"
        },
        "id": "WM1kchBCVktF",
        "outputId": "f9f21b56-00cb-4da5-f5a2-110a37569221"
      },
      "source": [
        "print(classification_report(y_test, Pol3_ovo_pred))"
      ],
      "execution_count": 10,
      "outputs": [
        {
          "output_type": "stream",
          "name": "stdout",
          "text": [
            "              precision    recall  f1-score   support\n",
            "\n",
            "    Alerta_1       0.85      1.00      0.92       210\n",
            "    Alerta_2       0.99      0.81      0.89       206\n",
            "    Alerta_3       0.99      1.00      0.99       206\n",
            "    Alerta_4       1.00      1.00      1.00       178\n",
            "\n",
            "    accuracy                           0.95       800\n",
            "   macro avg       0.96      0.95      0.95       800\n",
            "weighted avg       0.96      0.95      0.95       800\n",
            "\n"
          ]
        }
      ]
    },
    {
      "cell_type": "code",
      "metadata": {
        "colab": {
          "base_uri": "https://localhost:8080/",
          "height": 812
        },
        "id": "f4LXUybcU9Vh",
        "outputId": "f5cbd4e5-43bf-42f8-cb06-be6924e484ad"
      },
      "source": [
        "# creando una matrix de confusion\n",
        "cm_Pol3_ovo = confusion_matrix(y_test, Pol3_ovo_pred)\n",
        "cm_Pol3_ovr = confusion_matrix(y_test, Pol3_ovr_pred)\n",
        "plot_confusion_matrix(conf_mat=cm_Pol3_ovo, figsize=(6,6), show_normed=False)\n",
        "plot_confusion_matrix(conf_mat=cm_Pol3_ovr, figsize=(6,6), show_normed=False)\n",
        "plt.tight_layout()"
      ],
      "execution_count": 11,
      "outputs": [
        {
          "output_type": "display_data",
          "data": {
            "image/png": "[encoded data removed]",
            "text/plain": [
              "<Figure size 432x432 with 1 Axes>"
            ]
          },
          "metadata": {
            "needs_background": "light"
          }
        },
        {
          "output_type": "display_data",
          "data": {
            "image/png": "[encoded data removed]",
            "text/plain": [
              "<Figure size 432x432 with 1 Axes>"
            ]
          },
          "metadata": {
            "needs_background": "light"
          }
        }
      ]
    },
    {
      "cell_type": "markdown",
      "metadata": {
        "id": "XmL6yUgSVBkT"
      },
      "source": [
        "### **Predicción con SVM Kernel Polinómico de grado 4**"
      ]
    },
    {
      "cell_type": "code",
      "metadata": {
        "colab": {
          "base_uri": "https://localhost:8080/"
        },
        "id": "zgaCeyPCVcFx",
        "outputId": "57214662-5301-4836-ebf4-d6b86bdb662c"
      },
      "source": [
        "Pol4_ovo = svm.SVC(kernel='poly', degree=4, C=1, decision_function_shape='ovo').fit(X_train, y_train)\n",
        "Pol4_ovr = svm.SVC(kernel='poly', degree=4, C=1, decision_function_shape='ovr').fit(X_train, y_train)\n",
        "\n",
        "Pol4_ovo_pred = Pol4_ovo.predict(X_test)\n",
        "Pol4_ovr_pred = Pol4_ovr.predict(X_test)\n",
        "\n",
        "accuracy_Pol4_ovo = Pol4_ovo.score(X_test, y_test)\n",
        "accuracy_Pol4_ovr = Pol4_ovr.score(X_test, y_test)\n",
        "print('“Accuracy Pol4 ovo Kernel:”', accuracy_Pol4_ovo)\n",
        "print('“Accuracy Pol4 ovr Kernel:”', accuracy_Pol4_ovr)"
      ],
      "execution_count": 12,
      "outputs": [
        {
          "output_type": "stream",
          "name": "stdout",
          "text": [
            "“Accuracy Pol4 ovo Kernel:” 0.93125\n",
            "“Accuracy Pol4 ovr Kernel:” 0.93125\n"
          ]
        }
      ]
    },
    {
      "cell_type": "code",
      "metadata": {
        "colab": {
          "base_uri": "https://localhost:8080/"
        },
        "id": "GoCkPz90Vgt1",
        "outputId": "2adbe005-83d5-48b2-be67-da65d6e2855d"
      },
      "source": [
        "print(classification_report(y_test, Pol4_ovo_pred))"
      ],
      "execution_count": 13,
      "outputs": [
        {
          "output_type": "stream",
          "name": "stdout",
          "text": [
            "              precision    recall  f1-score   support\n",
            "\n",
            "    Alerta_1       0.80      1.00      0.89       210\n",
            "    Alerta_2       1.00      0.73      0.85       206\n",
            "    Alerta_3       0.99      1.00      1.00       206\n",
            "    Alerta_4       1.00      1.00      1.00       178\n",
            "\n",
            "    accuracy                           0.93       800\n",
            "   macro avg       0.95      0.93      0.93       800\n",
            "weighted avg       0.94      0.93      0.93       800\n",
            "\n"
          ]
        }
      ]
    },
    {
      "cell_type": "code",
      "metadata": {
        "colab": {
          "base_uri": "https://localhost:8080/",
          "height": 812
        },
        "id": "pUDExWxmVfuq",
        "outputId": "a68c360d-ad23-4c2d-a9c3-7d0e8759091b"
      },
      "source": [
        "# creando una matrix de confusion\n",
        "cm_Pol4_ovo = confusion_matrix(y_test, Pol4_ovo_pred)\n",
        "cm_Pol4_ovr = confusion_matrix(y_test, Pol4_ovr_pred)\n",
        "plot_confusion_matrix(conf_mat=cm_Pol4_ovo, figsize=(6,6), show_normed=False)\n",
        "plot_confusion_matrix(conf_mat=cm_Pol4_ovr, figsize=(6,6), show_normed=False)\n",
        "plt.tight_layout()"
      ],
      "execution_count": 14,
      "outputs": [
        {
          "output_type": "display_data",
          "data": {
            "image/png": "[encoded data removed]",
            "text/plain": [
              "<Figure size 432x432 with 1 Axes>"
            ]
          },
          "metadata": {
            "needs_background": "light"
          }
        },
        {
          "output_type": "display_data",
          "data": {
            "image/png": "[encoded data removed]",
            "text/plain": [
              "<Figure size 432x432 with 1 Axes>"
            ]
          },
          "metadata": {
            "needs_background": "light"
          }
        }
      ]
    },
    {
      "cell_type": "markdown",
      "metadata": {
        "id": "uMeVGnQ-VCkH"
      },
      "source": [
        "### **Predicción con SVM Kernel Polinómico de grado 5**"
      ]
    },
    {
      "cell_type": "code",
      "metadata": {
        "colab": {
          "base_uri": "https://localhost:8080/"
        },
        "id": "FSf8ciQoV1Q5",
        "outputId": "984dc4ac-abdc-4dca-8e55-882da5785b18"
      },
      "source": [
        "Pol5_ovo = svm.SVC(kernel='poly', degree=5, C=1, decision_function_shape='ovo').fit(X_train, y_train)\n",
        "Pol5_ovr = svm.SVC(kernel='poly', degree=5, C=1, decision_function_shape='ovr').fit(X_train, y_train)\n",
        "\n",
        "Pol5_ovo_pred = Pol5_ovo.predict(X_test)\n",
        "Pol5_ovr_pred = Pol5_ovr.predict(X_test)\n",
        "\n",
        "accuracy_Pol5_ovo = Pol5_ovo.score(X_test, y_test)\n",
        "accuracy_Pol5_ovr = Pol5_ovr.score(X_test, y_test)\n",
        "print('“Accuracy Pol5 ovo Kernel:”', accuracy_Pol5_ovo)\n",
        "print('“Accuracy Pol5 ovr Kernel:”', accuracy_Pol5_ovr)"
      ],
      "execution_count": 15,
      "outputs": [
        {
          "output_type": "stream",
          "name": "stdout",
          "text": [
            "“Accuracy Pol5 ovo Kernel:” 0.915\n",
            "“Accuracy Pol5 ovr Kernel:” 0.915\n"
          ]
        }
      ]
    },
    {
      "cell_type": "code",
      "metadata": {
        "colab": {
          "base_uri": "https://localhost:8080/"
        },
        "id": "OfMZXTl2Vy00",
        "outputId": "d8d9862d-d28f-430d-9917-fe537bc16503"
      },
      "source": [
        "print(classification_report(y_test, Pol5_ovo_pred))"
      ],
      "execution_count": 16,
      "outputs": [
        {
          "output_type": "stream",
          "name": "stdout",
          "text": [
            "              precision    recall  f1-score   support\n",
            "\n",
            "    Alerta_1       0.76      1.00      0.86       210\n",
            "    Alerta_2       1.00      0.67      0.80       206\n",
            "    Alerta_3       0.99      1.00      1.00       206\n",
            "    Alerta_4       1.00      1.00      1.00       178\n",
            "\n",
            "    accuracy                           0.92       800\n",
            "   macro avg       0.94      0.92      0.92       800\n",
            "weighted avg       0.93      0.92      0.91       800\n",
            "\n"
          ]
        }
      ]
    },
    {
      "cell_type": "code",
      "metadata": {
        "colab": {
          "base_uri": "https://localhost:8080/",
          "height": 812
        },
        "id": "CePnB6PTV5rv",
        "outputId": "d408fdf1-fec7-4174-f10c-2d9f045cc477"
      },
      "source": [
        "# creando una matrix de confusion\n",
        "cm_Pol5_ovo = confusion_matrix(y_test, Pol5_ovo_pred)\n",
        "cm_Pol5_ovr = confusion_matrix(y_test, Pol5_ovr_pred)\n",
        "plot_confusion_matrix(conf_mat=cm_Pol5_ovo, figsize=(6,6), show_normed=False)\n",
        "plot_confusion_matrix(conf_mat=cm_Pol5_ovr, figsize=(6,6), show_normed=False)\n",
        "plt.tight_layout()"
      ],
      "execution_count": 17,
      "outputs": [
        {
          "output_type": "display_data",
          "data": {
            "image/png": "[encoded data removed]",
            "text/plain": [
              "<Figure size 432x432 with 1 Axes>"
            ]
          },
          "metadata": {
            "needs_background": "light"
          }
        },
        {
          "output_type": "display_data",
          "data": {
            "image/png": "[encoded data removed]",
            "text/plain": [
              "<Figure size 432x432 with 1 Axes>"
            ]
          },
          "metadata": {
            "needs_background": "light"
          }
        }
      ]
    },
    {
      "cell_type": "markdown",
      "metadata": {
        "id": "kAiDDBhjVDu7"
      },
      "source": [
        "### **Predicción con SVM Kernel Polinómico de grado 6**"
      ]
    },
    {
      "cell_type": "code",
      "metadata": {
        "colab": {
          "base_uri": "https://localhost:8080/"
        },
        "id": "np6Bx6Z4WAYk",
        "outputId": "eeb18f05-0e1e-4963-bc1d-b37a93e8f5c0"
      },
      "source": [
        "Pol6_ovo = svm.SVC(kernel='poly', degree=6, C=1, decision_function_shape='ovo').fit(X_train, y_train)\n",
        "Pol6_ovr = svm.SVC(kernel='poly', degree=6, C=1, decision_function_shape='ovr').fit(X_train, y_train)\n",
        "\n",
        "Pol6_ovo_pred = Pol6_ovo.predict(X_test)\n",
        "Pol6_ovr_pred = Pol6_ovr.predict(X_test)\n",
        "\n",
        "accuracy_Pol6_ovo = Pol6_ovo.score(X_test, y_test)\n",
        "accuracy_Pol6_ovr = Pol6_ovr.score(X_test, y_test)\n",
        "print('“Accuracy Pol6 ovo Kernel:”', accuracy_Pol6_ovo)\n",
        "print('“Accuracy Pol6 ovr Kernel:”', accuracy_Pol6_ovr)"
      ],
      "execution_count": 18,
      "outputs": [
        {
          "output_type": "stream",
          "name": "stdout",
          "text": [
            "“Accuracy Pol6 ovo Kernel:” 0.9\n",
            "“Accuracy Pol6 ovr Kernel:” 0.9\n"
          ]
        }
      ]
    },
    {
      "cell_type": "code",
      "metadata": {
        "colab": {
          "base_uri": "https://localhost:8080/"
        },
        "id": "OUYM_6RsV_oy",
        "outputId": "42aaa54e-3ffa-4469-c6c7-298b459d1961"
      },
      "source": [
        "print(classification_report(y_test, Pol6_ovo_pred))"
      ],
      "execution_count": 19,
      "outputs": [
        {
          "output_type": "stream",
          "name": "stdout",
          "text": [
            "              precision    recall  f1-score   support\n",
            "\n",
            "    Alerta_1       0.73      1.00      0.84       210\n",
            "    Alerta_2       1.00      0.61      0.76       206\n",
            "    Alerta_3       0.99      1.00      1.00       206\n",
            "    Alerta_4       1.00      1.00      1.00       178\n",
            "\n",
            "    accuracy                           0.90       800\n",
            "   macro avg       0.93      0.90      0.90       800\n",
            "weighted avg       0.93      0.90      0.90       800\n",
            "\n"
          ]
        }
      ]
    },
    {
      "cell_type": "code",
      "metadata": {
        "colab": {
          "base_uri": "https://localhost:8080/",
          "height": 812
        },
        "id": "DZXvqYmYWAy2",
        "outputId": "2d0cac5a-00c3-4c03-82c6-c72ee679ef9c"
      },
      "source": [
        "# creando una matrix de confusion\n",
        "cm_Pol6_ovo = confusion_matrix(y_test, Pol6_ovo_pred)\n",
        "cm_Pol6_ovr = confusion_matrix(y_test, Pol6_ovr_pred)\n",
        "plot_confusion_matrix(conf_mat=cm_Pol6_ovo, figsize=(6,6), show_normed=False)\n",
        "plot_confusion_matrix(conf_mat=cm_Pol6_ovr, figsize=(6,6), show_normed=False)\n",
        "plt.tight_layout()"
      ],
      "execution_count": 20,
      "outputs": [
        {
          "output_type": "display_data",
          "data": {
            "image/png": "[encoded data removed]",
            "text/plain": [
              "<Figure size 432x432 with 1 Axes>"
            ]
          },
          "metadata": {
            "needs_background": "light"
          }
        },
        {
          "output_type": "display_data",
          "data": {
            "image/png": "[encoded data removed]",
            "text/plain": [
              "<Figure size 432x432 with 1 Axes>"
            ]
          },
          "metadata": {
            "needs_background": "light"
          }
        }
      ]
    },
    {
      "cell_type": "markdown",
      "metadata": {
        "id": "EPWluldIVEGo"
      },
      "source": [
        "## **Predicción con SVM Kernel Sigmoide**"
      ]
    },
    {
      "cell_type": "code",
      "metadata": {
        "colab": {
          "base_uri": "https://localhost:8080/"
        },
        "id": "5e-3EGVvWHYZ",
        "outputId": "3b1e95a5-9508-4b5f-c986-086a702ac52b"
      },
      "source": [
        "Sigmo_ovo = svm.SVC(kernel='sigmoid', C=1, decision_function_shape='ovo').fit(X_train, y_train)\n",
        "Sigmo_ovr = svm.SVC(kernel='sigmoid', C=1, decision_function_shape='ovr').fit(X_train, y_train)\n",
        "\n",
        "Sigmo_ovo_pred = Sigmo_ovo.predict(X_test)\n",
        "Sigmo_ovr_pred = Sigmo_ovr.predict(X_test)\n",
        "\n",
        "accuracy_Sigmo_ovo = Sigmo_ovo.score(X_test, y_test)\n",
        "accuracy_Sigmo_ovr = Sigmo_ovr.score(X_test, y_test)\n",
        "print('“Accuracy Sigmo ovo Kernel:”', accuracy_Sigmo_ovo)\n",
        "print('“Accuracy Sigmo ovr Kernel:”', accuracy_Sigmo_ovr)"
      ],
      "execution_count": 21,
      "outputs": [
        {
          "output_type": "stream",
          "name": "stdout",
          "text": [
            "“Accuracy Sigmo ovo Kernel:” 0.20125\n",
            "“Accuracy Sigmo ovr Kernel:” 0.20125\n"
          ]
        }
      ]
    },
    {
      "cell_type": "code",
      "metadata": {
        "colab": {
          "base_uri": "https://localhost:8080/"
        },
        "id": "joX79ei4WIEj",
        "outputId": "a84c42bd-9495-45a2-95ee-f5306ae69ea6"
      },
      "source": [
        "print(classification_report(y_test, Sigmo_ovo_pred))"
      ],
      "execution_count": 27,
      "outputs": [
        {
          "output_type": "stream",
          "name": "stdout",
          "text": [
            "              precision    recall  f1-score   support\n",
            "\n",
            "    Alerta_1       1.00      0.73      0.84       210\n",
            "    Alerta_2       0.00      0.00      0.00       206\n",
            "    Alerta_3       0.00      0.00      0.00       206\n",
            "    Alerta_4       0.02      0.04      0.02       178\n",
            "\n",
            "    accuracy                           0.20       800\n",
            "   macro avg       0.25      0.19      0.22       800\n",
            "weighted avg       0.27      0.20      0.23       800\n",
            "\n"
          ]
        },
        {
          "output_type": "stream",
          "name": "stderr",
          "text": [
            "/usr/local/lib/python3.7/dist-packages/sklearn/metrics/_classification.py:1308: UndefinedMetricWarning: Precision and F-score are ill-defined and being set to 0.0 in labels with no predicted samples. Use `zero_division` parameter to control this behavior.\n",
            "  _warn_prf(average, modifier, msg_start, len(result))\n",
            "/usr/local/lib/python3.7/dist-packages/sklearn/metrics/_classification.py:1308: UndefinedMetricWarning: Precision and F-score are ill-defined and being set to 0.0 in labels with no predicted samples. Use `zero_division` parameter to control this behavior.\n",
            "  _warn_prf(average, modifier, msg_start, len(result))\n",
            "/usr/local/lib/python3.7/dist-packages/sklearn/metrics/_classification.py:1308: UndefinedMetricWarning: Precision and F-score are ill-defined and being set to 0.0 in labels with no predicted samples. Use `zero_division` parameter to control this behavior.\n",
            "  _warn_prf(average, modifier, msg_start, len(result))\n"
          ]
        }
      ]
    },
    {
      "cell_type": "code",
      "metadata": {
        "colab": {
          "base_uri": "https://localhost:8080/",
          "height": 812
        },
        "id": "P2I6wib2WH3W",
        "outputId": "f0b6d11b-70ee-42be-9fab-0246827ccabd"
      },
      "source": [
        "# creando una matrix de confusion\n",
        "cm_sigmo_ovo = confusion_matrix(y_test, Sigmo_ovo_pred)\n",
        "cm_sigmo_ovr = confusion_matrix(y_test, Sigmo_ovr_pred)\n",
        "plot_confusion_matrix(conf_mat=cm_sigmo_ovo, figsize=(6,6), show_normed=False)\n",
        "plot_confusion_matrix(conf_mat=cm_sigmo_ovr, figsize=(6,6), show_normed=False)\n",
        "plt.tight_layout()"
      ],
      "execution_count": 23,
      "outputs": [
        {
          "output_type": "display_data",
          "data": {
            "image/png": "[encoded data removed]",
            "text/plain": [
              "<Figure size 432x432 with 1 Axes>"
            ]
          },
          "metadata": {
            "needs_background": "light"
          }
        },
        {
          "output_type": "display_data",
          "data": {
            "image/png": "[encoded data removed]",
            "text/plain": [
              "<Figure size 432x432 with 1 Axes>"
            ]
          },
          "metadata": {
            "needs_background": "light"
          }
        }
      ]
    },
    {
      "cell_type": "markdown",
      "metadata": {
        "id": "ASXtloXcVErb"
      },
      "source": [
        "## **Predicción con SVM Kernel RBF**"
      ]
    },
    {
      "cell_type": "code",
      "metadata": {
        "colab": {
          "base_uri": "https://localhost:8080/"
        },
        "id": "9eWJ2hhoWoff",
        "outputId": "e9026142-fff4-455e-fabc-6d65af0c51c4"
      },
      "source": [
        "rbf_ovo = svm.SVC(kernel='rbf', gamma=1, C=1, decision_function_shape='ovo').fit(X_train, y_train)\n",
        "rbf_ovr = svm.SVC(kernel='rbf', gamma=1, C=1, decision_function_shape='ovr').fit(X_train, y_train)\n",
        "\n",
        "rbf_ovo_pred = rbf_ovo.predict(X_test)\n",
        "rbf_ovr_pred = rbf_ovr.predict(X_test)\n",
        "\n",
        "accuracy_rbf_ovo = rbf_ovo.score(X_test, y_test)\n",
        "accuracy_rbf_ovr = rbf_ovr.score(X_test, y_test)\n",
        "print('“Accuracy rbf ovo Kernel:”', accuracy_rbf_ovo)\n",
        "print('“Accuracy rbf ovr Kernel:”', accuracy_rbf_ovr)"
      ],
      "execution_count": 24,
      "outputs": [
        {
          "output_type": "stream",
          "name": "stdout",
          "text": [
            "“Accuracy rbf ovo Kernel:” 0.97125\n",
            "“Accuracy rbf ovr Kernel:” 0.97125\n"
          ]
        }
      ]
    },
    {
      "cell_type": "code",
      "metadata": {
        "colab": {
          "base_uri": "https://localhost:8080/"
        },
        "id": "tq_w_F_iWoJ7",
        "outputId": "a6f2fef2-c6f4-4fe4-c9c8-05480b2c1451"
      },
      "source": [
        "print(classification_report(y_test, rbf_ovo_pred))"
      ],
      "execution_count": 25,
      "outputs": [
        {
          "output_type": "stream",
          "name": "stdout",
          "text": [
            "              precision    recall  f1-score   support\n",
            "\n",
            "    Alerta_1       0.94      1.00      0.97       210\n",
            "    Alerta_2       0.97      0.93      0.95       206\n",
            "    Alerta_3       0.99      0.96      0.98       206\n",
            "    Alerta_4       0.98      1.00      0.99       178\n",
            "\n",
            "    accuracy                           0.97       800\n",
            "   macro avg       0.97      0.97      0.97       800\n",
            "weighted avg       0.97      0.97      0.97       800\n",
            "\n"
          ]
        }
      ]
    },
    {
      "cell_type": "code",
      "metadata": {
        "colab": {
          "base_uri": "https://localhost:8080/",
          "height": 812
        },
        "id": "sHwxXUYyWnvD",
        "outputId": "462bf88b-9731-4d7d-e9f2-1b1dbfb1f733"
      },
      "source": [
        "# creando una matrix de confusion\n",
        "cm_rbf_ovo = confusion_matrix(y_test, rbf_ovo_pred)\n",
        "cm_rbf_ovr = confusion_matrix(y_test, rbf_ovr_pred)\n",
        "plot_confusion_matrix(conf_mat=cm_rbf_ovo, figsize=(6,6), show_normed=False)\n",
        "plot_confusion_matrix(conf_mat=cm_rbf_ovr, figsize=(6,6), show_normed=False)\n",
        "plt.tight_layout()"
      ],
      "execution_count": 26,
      "outputs": [
        {
          "output_type": "display_data",
          "data": {
            "image/png": "[encoded data removed]",
            "text/plain": [
              "<Figure size 432x432 with 1 Axes>"
            ]
          },
          "metadata": {
            "needs_background": "light"
          }
        },
        {
          "output_type": "display_data",
          "data": {
            "image/png": "[encoded data removed]",
            "text/plain": [
              "<Figure size 432x432 with 1 Axes>"
            ]
          },
          "metadata": {
            "needs_background": "light"
          }
        }
      ]
    }
  ]
}